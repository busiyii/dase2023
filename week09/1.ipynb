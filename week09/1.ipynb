{
 "cells": [
  {
   "cell_type": "markdown",
   "metadata": {},
   "source": [
    "CREATE TABLE user (\n",
    "    id INT PRIMARY KEY,\n",
    "    name VARCHAR(50),\n",
    "    sex VARCHAR(10),\n",
    "    age INT,\n",
    "    phone VARCHAR(15)\n",
    ");"
   ]
  },
  {
   "cell_type": "markdown",
   "metadata": {},
   "source": [
    "INSERT INTO user VALUES\n",
    "(1, 'qnq', 'Male', 17, '111111111'),\n",
    "(2, 'owo', 'Female', 18, '222222222'),\n",
    "(3, 'nqn', 'Male', 19, '333333333');"
   ]
  },
  {
   "cell_type": "markdown",
   "metadata": {},
   "source": [
    "SELECT * FROM user\n",
    "WHERE age BETWEEN 20 AND 30;"
   ]
  },
  {
   "cell_type": "markdown",
   "metadata": {},
   "source": [
    "DELETE FROM user WHERE name LIKE '%张%';"
   ]
  },
  {
   "cell_type": "markdown",
   "metadata": {},
   "source": [
    "SELECT AVG(age) AS avg_age FROM user;"
   ]
  },
  {
   "cell_type": "markdown",
   "metadata": {},
   "source": [
    "SELECT * FROM user\n",
    "WHERE age BETWEEN 20 AND 30 AND name LIKE '%张%'\n",
    "ORDER BY age DESC;"
   ]
  },
  {
   "cell_type": "markdown",
   "metadata": {},
   "source": [
    "CREATE TABLE team (\n",
    "    id INT PRIMARY KEY,\n",
    "    teamName VARCHAR(50)\n",
    ");\n",
    "\n",
    "CREATE TABLE score (\n",
    "    id INT PRIMARY KEY,\n",
    "    teamid INT,\n",
    "    uscrid INT,\n",
    "    score INT,\n",
    "    FOREIGN KEY (teamid) REFERENCES team(id),\n",
    "    FOREIGN KEY (uscrid) REFERENCES uscr(id)\n",
    ");"
   ]
  },
  {
   "cell_type": "markdown",
   "metadata": {},
   "source": [
    "SELECT user.*\n",
    "FROM user\n",
    "JOIN score ON user.id = score.uscrid\n",
    "JOIN team ON score.teamid = team.id\n",
    "WHERE team.teamName = 'ECNU' AND user.age < 20;"
   ]
  },
  {
   "cell_type": "markdown",
   "metadata": {},
   "source": [
    "SELECT team.teamName, COALESCE(SUM(score.score), 0) AS total_score\n",
    "FROM team\n",
    "LEFT JOIN score ON team.id = score.teamid\n",
    "WHERE team.teamName = 'ECNU';"
   ]
  }
 ],
 "metadata": {
  "kernelspec": {
   "display_name": "Python 3",
   "language": "python",
   "name": "python3"
  },
  "language_info": {
   "codemirror_mode": {
    "name": "ipython",
    "version": 3
   },
   "file_extension": ".py",
   "mimetype": "text/x-python",
   "name": "python",
   "nbconvert_exporter": "python",
   "pygments_lexer": "ipython3",
   "version": "3.10.11"
  }
 },
 "nbformat": 4,
 "nbformat_minor": 2
}
